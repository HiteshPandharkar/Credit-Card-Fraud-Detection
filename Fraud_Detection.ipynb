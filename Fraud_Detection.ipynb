{
  "nbformat": 4,
  "nbformat_minor": 0,
  "metadata": {
    "colab": {
      "name": "Fraud Detection",
      "provenance": [],
      "collapsed_sections": [],
      "include_colab_link": true
    },
    "kernelspec": {
      "name": "python3",
      "display_name": "Python 3"
    }
  },
  "cells": [
    {
      "cell_type": "markdown",
      "metadata": {
        "id": "view-in-github",
        "colab_type": "text"
      },
      "source": [
        "<a href=\"https://colab.research.google.com/github/HiteshPandharkar/Credit-Card-Fraud-Detection/blob/main/Fraud_Detection.ipynb\" target=\"_parent\"><img src=\"https://colab.research.google.com/assets/colab-badge.svg\" alt=\"Open In Colab\"/></a>"
      ]
    },
    {
      "cell_type": "code",
      "metadata": {
        "id": "m4wYNO8rbovk"
      },
      "source": [
        "from google.colab import drive\r\n",
        "\r\n",
        "import numpy as np\r\n",
        "import pandas as pd\r\n",
        "\r\n",
        "import matplotlib.pyplot as plt\r\n",
        "import seaborn as sns\r\n",
        "sns.set_style('whitegrid')\r\n",
        "\r\n",
        "from sklearn.ensemble import ExtraTreesClassifier\r\n",
        "from sklearn.feature_selection import SelectFromModel\r\n",
        "\r\n",
        "from sklearn.model_selection import StratifiedKFold, KFold, cross_val_score\r\n",
        "\r\n",
        "from sklearn.ensemble import RandomForestClassifier\r\n",
        "from lightgbm import LGBMClassifier\r\n",
        "from sklearn.ensemble import VotingClassifier\r\n",
        "\r\n",
        "from sklearn.metrics import roc_auc_score as ras\r\n",
        "\r\n",
        "\r\n",
        "import warnings\r\n",
        "warnings.filterwarnings('ignore')"
      ],
      "execution_count": null,
      "outputs": []
    },
    {
      "cell_type": "code",
      "metadata": {
        "colab": {
          "base_uri": "https://localhost:8080/"
        },
        "id": "VPrrcTSFcNM3",
        "outputId": "46a45e33-57f9-4c68-8793-9a2d9940a6e8"
      },
      "source": [
        "drive.mount('/content/gdrive')"
      ],
      "execution_count": null,
      "outputs": [
        {
          "output_type": "stream",
          "text": [
            "Mounted at /content/gdrive\n"
          ],
          "name": "stdout"
        }
      ]
    },
    {
      "cell_type": "code",
      "metadata": {
        "colab": {
          "base_uri": "https://localhost:8080/",
          "height": 215
        },
        "id": "XrIqpm0McOFL",
        "outputId": "38473ad0-e826-42d2-cf75-e545b6b48ea1"
      },
      "source": [
        "dataset = pd.read_csv('/content/gdrive/MyDrive/fraud csv/creditcard.csv')\r\n",
        "\r\n",
        "dataset.head()"
      ],
      "execution_count": null,
      "outputs": [
        {
          "output_type": "execute_result",
          "data": {
            "text/html": [
              "<div>\n",
              "<style scoped>\n",
              "    .dataframe tbody tr th:only-of-type {\n",
              "        vertical-align: middle;\n",
              "    }\n",
              "\n",
              "    .dataframe tbody tr th {\n",
              "        vertical-align: top;\n",
              "    }\n",
              "\n",
              "    .dataframe thead th {\n",
              "        text-align: right;\n",
              "    }\n",
              "</style>\n",
              "<table border=\"1\" class=\"dataframe\">\n",
              "  <thead>\n",
              "    <tr style=\"text-align: right;\">\n",
              "      <th></th>\n",
              "      <th>Time</th>\n",
              "      <th>V1</th>\n",
              "      <th>V2</th>\n",
              "      <th>V3</th>\n",
              "      <th>V4</th>\n",
              "      <th>V5</th>\n",
              "      <th>V6</th>\n",
              "      <th>V7</th>\n",
              "      <th>V8</th>\n",
              "      <th>V9</th>\n",
              "      <th>V10</th>\n",
              "      <th>V11</th>\n",
              "      <th>V12</th>\n",
              "      <th>V13</th>\n",
              "      <th>V14</th>\n",
              "      <th>V15</th>\n",
              "      <th>V16</th>\n",
              "      <th>V17</th>\n",
              "      <th>V18</th>\n",
              "      <th>V19</th>\n",
              "      <th>V20</th>\n",
              "      <th>V21</th>\n",
              "      <th>V22</th>\n",
              "      <th>V23</th>\n",
              "      <th>V24</th>\n",
              "      <th>V25</th>\n",
              "      <th>V26</th>\n",
              "      <th>V27</th>\n",
              "      <th>V28</th>\n",
              "      <th>Amount</th>\n",
              "      <th>Class</th>\n",
              "    </tr>\n",
              "  </thead>\n",
              "  <tbody>\n",
              "    <tr>\n",
              "      <th>0</th>\n",
              "      <td>0.0</td>\n",
              "      <td>-1.359807</td>\n",
              "      <td>-0.072781</td>\n",
              "      <td>2.536347</td>\n",
              "      <td>1.378155</td>\n",
              "      <td>-0.338321</td>\n",
              "      <td>0.462388</td>\n",
              "      <td>0.239599</td>\n",
              "      <td>0.098698</td>\n",
              "      <td>0.363787</td>\n",
              "      <td>0.090794</td>\n",
              "      <td>-0.551600</td>\n",
              "      <td>-0.617801</td>\n",
              "      <td>-0.991390</td>\n",
              "      <td>-0.311169</td>\n",
              "      <td>1.468177</td>\n",
              "      <td>-0.470401</td>\n",
              "      <td>0.207971</td>\n",
              "      <td>0.025791</td>\n",
              "      <td>0.403993</td>\n",
              "      <td>0.251412</td>\n",
              "      <td>-0.018307</td>\n",
              "      <td>0.277838</td>\n",
              "      <td>-0.110474</td>\n",
              "      <td>0.066928</td>\n",
              "      <td>0.128539</td>\n",
              "      <td>-0.189115</td>\n",
              "      <td>0.133558</td>\n",
              "      <td>-0.021053</td>\n",
              "      <td>149.62</td>\n",
              "      <td>0</td>\n",
              "    </tr>\n",
              "    <tr>\n",
              "      <th>1</th>\n",
              "      <td>0.0</td>\n",
              "      <td>1.191857</td>\n",
              "      <td>0.266151</td>\n",
              "      <td>0.166480</td>\n",
              "      <td>0.448154</td>\n",
              "      <td>0.060018</td>\n",
              "      <td>-0.082361</td>\n",
              "      <td>-0.078803</td>\n",
              "      <td>0.085102</td>\n",
              "      <td>-0.255425</td>\n",
              "      <td>-0.166974</td>\n",
              "      <td>1.612727</td>\n",
              "      <td>1.065235</td>\n",
              "      <td>0.489095</td>\n",
              "      <td>-0.143772</td>\n",
              "      <td>0.635558</td>\n",
              "      <td>0.463917</td>\n",
              "      <td>-0.114805</td>\n",
              "      <td>-0.183361</td>\n",
              "      <td>-0.145783</td>\n",
              "      <td>-0.069083</td>\n",
              "      <td>-0.225775</td>\n",
              "      <td>-0.638672</td>\n",
              "      <td>0.101288</td>\n",
              "      <td>-0.339846</td>\n",
              "      <td>0.167170</td>\n",
              "      <td>0.125895</td>\n",
              "      <td>-0.008983</td>\n",
              "      <td>0.014724</td>\n",
              "      <td>2.69</td>\n",
              "      <td>0</td>\n",
              "    </tr>\n",
              "    <tr>\n",
              "      <th>2</th>\n",
              "      <td>1.0</td>\n",
              "      <td>-1.358354</td>\n",
              "      <td>-1.340163</td>\n",
              "      <td>1.773209</td>\n",
              "      <td>0.379780</td>\n",
              "      <td>-0.503198</td>\n",
              "      <td>1.800499</td>\n",
              "      <td>0.791461</td>\n",
              "      <td>0.247676</td>\n",
              "      <td>-1.514654</td>\n",
              "      <td>0.207643</td>\n",
              "      <td>0.624501</td>\n",
              "      <td>0.066084</td>\n",
              "      <td>0.717293</td>\n",
              "      <td>-0.165946</td>\n",
              "      <td>2.345865</td>\n",
              "      <td>-2.890083</td>\n",
              "      <td>1.109969</td>\n",
              "      <td>-0.121359</td>\n",
              "      <td>-2.261857</td>\n",
              "      <td>0.524980</td>\n",
              "      <td>0.247998</td>\n",
              "      <td>0.771679</td>\n",
              "      <td>0.909412</td>\n",
              "      <td>-0.689281</td>\n",
              "      <td>-0.327642</td>\n",
              "      <td>-0.139097</td>\n",
              "      <td>-0.055353</td>\n",
              "      <td>-0.059752</td>\n",
              "      <td>378.66</td>\n",
              "      <td>0</td>\n",
              "    </tr>\n",
              "    <tr>\n",
              "      <th>3</th>\n",
              "      <td>1.0</td>\n",
              "      <td>-0.966272</td>\n",
              "      <td>-0.185226</td>\n",
              "      <td>1.792993</td>\n",
              "      <td>-0.863291</td>\n",
              "      <td>-0.010309</td>\n",
              "      <td>1.247203</td>\n",
              "      <td>0.237609</td>\n",
              "      <td>0.377436</td>\n",
              "      <td>-1.387024</td>\n",
              "      <td>-0.054952</td>\n",
              "      <td>-0.226487</td>\n",
              "      <td>0.178228</td>\n",
              "      <td>0.507757</td>\n",
              "      <td>-0.287924</td>\n",
              "      <td>-0.631418</td>\n",
              "      <td>-1.059647</td>\n",
              "      <td>-0.684093</td>\n",
              "      <td>1.965775</td>\n",
              "      <td>-1.232622</td>\n",
              "      <td>-0.208038</td>\n",
              "      <td>-0.108300</td>\n",
              "      <td>0.005274</td>\n",
              "      <td>-0.190321</td>\n",
              "      <td>-1.175575</td>\n",
              "      <td>0.647376</td>\n",
              "      <td>-0.221929</td>\n",
              "      <td>0.062723</td>\n",
              "      <td>0.061458</td>\n",
              "      <td>123.50</td>\n",
              "      <td>0</td>\n",
              "    </tr>\n",
              "    <tr>\n",
              "      <th>4</th>\n",
              "      <td>2.0</td>\n",
              "      <td>-1.158233</td>\n",
              "      <td>0.877737</td>\n",
              "      <td>1.548718</td>\n",
              "      <td>0.403034</td>\n",
              "      <td>-0.407193</td>\n",
              "      <td>0.095921</td>\n",
              "      <td>0.592941</td>\n",
              "      <td>-0.270533</td>\n",
              "      <td>0.817739</td>\n",
              "      <td>0.753074</td>\n",
              "      <td>-0.822843</td>\n",
              "      <td>0.538196</td>\n",
              "      <td>1.345852</td>\n",
              "      <td>-1.119670</td>\n",
              "      <td>0.175121</td>\n",
              "      <td>-0.451449</td>\n",
              "      <td>-0.237033</td>\n",
              "      <td>-0.038195</td>\n",
              "      <td>0.803487</td>\n",
              "      <td>0.408542</td>\n",
              "      <td>-0.009431</td>\n",
              "      <td>0.798278</td>\n",
              "      <td>-0.137458</td>\n",
              "      <td>0.141267</td>\n",
              "      <td>-0.206010</td>\n",
              "      <td>0.502292</td>\n",
              "      <td>0.219422</td>\n",
              "      <td>0.215153</td>\n",
              "      <td>69.99</td>\n",
              "      <td>0</td>\n",
              "    </tr>\n",
              "  </tbody>\n",
              "</table>\n",
              "</div>"
            ],
            "text/plain": [
              "   Time        V1        V2        V3  ...       V27       V28  Amount  Class\n",
              "0   0.0 -1.359807 -0.072781  2.536347  ...  0.133558 -0.021053  149.62      0\n",
              "1   0.0  1.191857  0.266151  0.166480  ... -0.008983  0.014724    2.69      0\n",
              "2   1.0 -1.358354 -1.340163  1.773209  ... -0.055353 -0.059752  378.66      0\n",
              "3   1.0 -0.966272 -0.185226  1.792993  ...  0.062723  0.061458  123.50      0\n",
              "4   2.0 -1.158233  0.877737  1.548718  ...  0.219422  0.215153   69.99      0\n",
              "\n",
              "[5 rows x 31 columns]"
            ]
          },
          "metadata": {
            "tags": []
          },
          "execution_count": 3
        }
      ]
    },
    {
      "cell_type": "code",
      "metadata": {
        "id": "vnyPgVdVcUl9"
      },
      "source": [
        "data = dataset.copy()\r\n",
        "\r\n",
        "#data.head()"
      ],
      "execution_count": null,
      "outputs": []
    },
    {
      "cell_type": "code",
      "metadata": {
        "colab": {
          "base_uri": "https://localhost:8080/"
        },
        "id": "iCGRb630cWq6",
        "outputId": "884be4b1-257c-4f54-b416-2e7c098ffabb"
      },
      "source": [
        "data.shape"
      ],
      "execution_count": null,
      "outputs": [
        {
          "output_type": "execute_result",
          "data": {
            "text/plain": [
              "(284807, 31)"
            ]
          },
          "metadata": {
            "tags": []
          },
          "execution_count": 5
        }
      ]
    },
    {
      "cell_type": "code",
      "metadata": {
        "colab": {
          "base_uri": "https://localhost:8080/"
        },
        "id": "I3s2-biTcZEL",
        "outputId": "c99766c2-d17a-46ab-b9ca-b4a7f27120b8"
      },
      "source": [
        "data['Class'].value_counts()"
      ],
      "execution_count": null,
      "outputs": [
        {
          "output_type": "execute_result",
          "data": {
            "text/plain": [
              "0    284315\n",
              "1       492\n",
              "Name: Class, dtype: int64"
            ]
          },
          "metadata": {
            "tags": []
          },
          "execution_count": 6
        }
      ]
    },
    {
      "cell_type": "code",
      "metadata": {
        "colab": {
          "base_uri": "https://localhost:8080/"
        },
        "id": "M_KsjgXdcbQc",
        "outputId": "5fea4571-f241-4a42-d82b-b30afb30123e"
      },
      "source": [
        "data.info()"
      ],
      "execution_count": null,
      "outputs": [
        {
          "output_type": "stream",
          "text": [
            "<class 'pandas.core.frame.DataFrame'>\n",
            "RangeIndex: 284807 entries, 0 to 284806\n",
            "Data columns (total 31 columns):\n",
            " #   Column  Non-Null Count   Dtype  \n",
            "---  ------  --------------   -----  \n",
            " 0   Time    284807 non-null  float64\n",
            " 1   V1      284807 non-null  float64\n",
            " 2   V2      284807 non-null  float64\n",
            " 3   V3      284807 non-null  float64\n",
            " 4   V4      284807 non-null  float64\n",
            " 5   V5      284807 non-null  float64\n",
            " 6   V6      284807 non-null  float64\n",
            " 7   V7      284807 non-null  float64\n",
            " 8   V8      284807 non-null  float64\n",
            " 9   V9      284807 non-null  float64\n",
            " 10  V10     284807 non-null  float64\n",
            " 11  V11     284807 non-null  float64\n",
            " 12  V12     284807 non-null  float64\n",
            " 13  V13     284807 non-null  float64\n",
            " 14  V14     284807 non-null  float64\n",
            " 15  V15     284807 non-null  float64\n",
            " 16  V16     284807 non-null  float64\n",
            " 17  V17     284807 non-null  float64\n",
            " 18  V18     284807 non-null  float64\n",
            " 19  V19     284807 non-null  float64\n",
            " 20  V20     284807 non-null  float64\n",
            " 21  V21     284807 non-null  float64\n",
            " 22  V22     284807 non-null  float64\n",
            " 23  V23     284807 non-null  float64\n",
            " 24  V24     284807 non-null  float64\n",
            " 25  V25     284807 non-null  float64\n",
            " 26  V26     284807 non-null  float64\n",
            " 27  V27     284807 non-null  float64\n",
            " 28  V28     284807 non-null  float64\n",
            " 29  Amount  284807 non-null  float64\n",
            " 30  Class   284807 non-null  int64  \n",
            "dtypes: float64(30), int64(1)\n",
            "memory usage: 67.4 MB\n"
          ],
          "name": "stdout"
        }
      ]
    },
    {
      "cell_type": "code",
      "metadata": {
        "id": "m_lSreIlcgcP"
      },
      "source": [
        "clf = ExtraTreesClassifier(n_estimators=100, random_state=44, criterion='entropy')"
      ],
      "execution_count": null,
      "outputs": []
    },
    {
      "cell_type": "code",
      "metadata": {
        "colab": {
          "base_uri": "https://localhost:8080/"
        },
        "id": "9zEm-GREciiR",
        "outputId": "09f271eb-245e-4ea1-f433-39eb1f9758e2"
      },
      "source": [
        "clf.fit(data[data.columns[:-1]], data['Class'])"
      ],
      "execution_count": null,
      "outputs": [
        {
          "output_type": "execute_result",
          "data": {
            "text/plain": [
              "ExtraTreesClassifier(bootstrap=False, ccp_alpha=0.0, class_weight=None,\n",
              "                     criterion='entropy', max_depth=None, max_features='auto',\n",
              "                     max_leaf_nodes=None, max_samples=None,\n",
              "                     min_impurity_decrease=0.0, min_impurity_split=None,\n",
              "                     min_samples_leaf=1, min_samples_split=2,\n",
              "                     min_weight_fraction_leaf=0.0, n_estimators=100,\n",
              "                     n_jobs=None, oob_score=False, random_state=44, verbose=0,\n",
              "                     warm_start=False)"
            ]
          },
          "metadata": {
            "tags": []
          },
          "execution_count": 9
        }
      ]
    },
    {
      "cell_type": "code",
      "metadata": {
        "id": "Ylb7A39SckeK"
      },
      "source": [
        "model = SelectFromModel(clf, prefit=True)\r\n",
        "x = model.transform(data[data.columns[:-1]])"
      ],
      "execution_count": null,
      "outputs": []
    },
    {
      "cell_type": "code",
      "metadata": {
        "colab": {
          "base_uri": "https://localhost:8080/"
        },
        "id": "_H5vJDg4cm1v",
        "outputId": "b9336439-8c7f-4d47-f9ef-bad6b92c1c63"
      },
      "source": [
        "clf.feature_importances_"
      ],
      "execution_count": null,
      "outputs": [
        {
          "output_type": "execute_result",
          "data": {
            "text/plain": [
              "array([0.01426102, 0.01553558, 0.01671898, 0.04832222, 0.06290367,\n",
              "       0.01201394, 0.01081562, 0.02129529, 0.01116674, 0.02657741,\n",
              "       0.07398904, 0.07935759, 0.10277714, 0.01024879, 0.14729921,\n",
              "       0.0098386 , 0.06949085, 0.12509097, 0.0332012 , 0.01548061,\n",
              "       0.01017501, 0.01089009, 0.01059124, 0.00663542, 0.00962035,\n",
              "       0.0081888 , 0.01112959, 0.00895908, 0.00839863, 0.00902731])"
            ]
          },
          "metadata": {
            "tags": []
          },
          "execution_count": 11
        }
      ]
    },
    {
      "cell_type": "code",
      "metadata": {
        "colab": {
          "base_uri": "https://localhost:8080/",
          "height": 935
        },
        "id": "KmtwBFPPconR",
        "outputId": "6899690b-cc84-43d9-b478-f8928757da15"
      },
      "source": [
        "features = pd.DataFrame(data={'imp': clf.feature_importances_, 'variable': data.columns[:-1]})\r\n",
        "\r\n",
        "features"
      ],
      "execution_count": null,
      "outputs": [
        {
          "output_type": "execute_result",
          "data": {
            "text/html": [
              "<div>\n",
              "<style scoped>\n",
              "    .dataframe tbody tr th:only-of-type {\n",
              "        vertical-align: middle;\n",
              "    }\n",
              "\n",
              "    .dataframe tbody tr th {\n",
              "        vertical-align: top;\n",
              "    }\n",
              "\n",
              "    .dataframe thead th {\n",
              "        text-align: right;\n",
              "    }\n",
              "</style>\n",
              "<table border=\"1\" class=\"dataframe\">\n",
              "  <thead>\n",
              "    <tr style=\"text-align: right;\">\n",
              "      <th></th>\n",
              "      <th>imp</th>\n",
              "      <th>variable</th>\n",
              "    </tr>\n",
              "  </thead>\n",
              "  <tbody>\n",
              "    <tr>\n",
              "      <th>0</th>\n",
              "      <td>0.014261</td>\n",
              "      <td>Time</td>\n",
              "    </tr>\n",
              "    <tr>\n",
              "      <th>1</th>\n",
              "      <td>0.015536</td>\n",
              "      <td>V1</td>\n",
              "    </tr>\n",
              "    <tr>\n",
              "      <th>2</th>\n",
              "      <td>0.016719</td>\n",
              "      <td>V2</td>\n",
              "    </tr>\n",
              "    <tr>\n",
              "      <th>3</th>\n",
              "      <td>0.048322</td>\n",
              "      <td>V3</td>\n",
              "    </tr>\n",
              "    <tr>\n",
              "      <th>4</th>\n",
              "      <td>0.062904</td>\n",
              "      <td>V4</td>\n",
              "    </tr>\n",
              "    <tr>\n",
              "      <th>5</th>\n",
              "      <td>0.012014</td>\n",
              "      <td>V5</td>\n",
              "    </tr>\n",
              "    <tr>\n",
              "      <th>6</th>\n",
              "      <td>0.010816</td>\n",
              "      <td>V6</td>\n",
              "    </tr>\n",
              "    <tr>\n",
              "      <th>7</th>\n",
              "      <td>0.021295</td>\n",
              "      <td>V7</td>\n",
              "    </tr>\n",
              "    <tr>\n",
              "      <th>8</th>\n",
              "      <td>0.011167</td>\n",
              "      <td>V8</td>\n",
              "    </tr>\n",
              "    <tr>\n",
              "      <th>9</th>\n",
              "      <td>0.026577</td>\n",
              "      <td>V9</td>\n",
              "    </tr>\n",
              "    <tr>\n",
              "      <th>10</th>\n",
              "      <td>0.073989</td>\n",
              "      <td>V10</td>\n",
              "    </tr>\n",
              "    <tr>\n",
              "      <th>11</th>\n",
              "      <td>0.079358</td>\n",
              "      <td>V11</td>\n",
              "    </tr>\n",
              "    <tr>\n",
              "      <th>12</th>\n",
              "      <td>0.102777</td>\n",
              "      <td>V12</td>\n",
              "    </tr>\n",
              "    <tr>\n",
              "      <th>13</th>\n",
              "      <td>0.010249</td>\n",
              "      <td>V13</td>\n",
              "    </tr>\n",
              "    <tr>\n",
              "      <th>14</th>\n",
              "      <td>0.147299</td>\n",
              "      <td>V14</td>\n",
              "    </tr>\n",
              "    <tr>\n",
              "      <th>15</th>\n",
              "      <td>0.009839</td>\n",
              "      <td>V15</td>\n",
              "    </tr>\n",
              "    <tr>\n",
              "      <th>16</th>\n",
              "      <td>0.069491</td>\n",
              "      <td>V16</td>\n",
              "    </tr>\n",
              "    <tr>\n",
              "      <th>17</th>\n",
              "      <td>0.125091</td>\n",
              "      <td>V17</td>\n",
              "    </tr>\n",
              "    <tr>\n",
              "      <th>18</th>\n",
              "      <td>0.033201</td>\n",
              "      <td>V18</td>\n",
              "    </tr>\n",
              "    <tr>\n",
              "      <th>19</th>\n",
              "      <td>0.015481</td>\n",
              "      <td>V19</td>\n",
              "    </tr>\n",
              "    <tr>\n",
              "      <th>20</th>\n",
              "      <td>0.010175</td>\n",
              "      <td>V20</td>\n",
              "    </tr>\n",
              "    <tr>\n",
              "      <th>21</th>\n",
              "      <td>0.010890</td>\n",
              "      <td>V21</td>\n",
              "    </tr>\n",
              "    <tr>\n",
              "      <th>22</th>\n",
              "      <td>0.010591</td>\n",
              "      <td>V22</td>\n",
              "    </tr>\n",
              "    <tr>\n",
              "      <th>23</th>\n",
              "      <td>0.006635</td>\n",
              "      <td>V23</td>\n",
              "    </tr>\n",
              "    <tr>\n",
              "      <th>24</th>\n",
              "      <td>0.009620</td>\n",
              "      <td>V24</td>\n",
              "    </tr>\n",
              "    <tr>\n",
              "      <th>25</th>\n",
              "      <td>0.008189</td>\n",
              "      <td>V25</td>\n",
              "    </tr>\n",
              "    <tr>\n",
              "      <th>26</th>\n",
              "      <td>0.011130</td>\n",
              "      <td>V26</td>\n",
              "    </tr>\n",
              "    <tr>\n",
              "      <th>27</th>\n",
              "      <td>0.008959</td>\n",
              "      <td>V27</td>\n",
              "    </tr>\n",
              "    <tr>\n",
              "      <th>28</th>\n",
              "      <td>0.008399</td>\n",
              "      <td>V28</td>\n",
              "    </tr>\n",
              "    <tr>\n",
              "      <th>29</th>\n",
              "      <td>0.009027</td>\n",
              "      <td>Amount</td>\n",
              "    </tr>\n",
              "  </tbody>\n",
              "</table>\n",
              "</div>"
            ],
            "text/plain": [
              "         imp variable\n",
              "0   0.014261     Time\n",
              "1   0.015536       V1\n",
              "2   0.016719       V2\n",
              "3   0.048322       V3\n",
              "4   0.062904       V4\n",
              "5   0.012014       V5\n",
              "6   0.010816       V6\n",
              "7   0.021295       V7\n",
              "8   0.011167       V8\n",
              "9   0.026577       V9\n",
              "10  0.073989      V10\n",
              "11  0.079358      V11\n",
              "12  0.102777      V12\n",
              "13  0.010249      V13\n",
              "14  0.147299      V14\n",
              "15  0.009839      V15\n",
              "16  0.069491      V16\n",
              "17  0.125091      V17\n",
              "18  0.033201      V18\n",
              "19  0.015481      V19\n",
              "20  0.010175      V20\n",
              "21  0.010890      V21\n",
              "22  0.010591      V22\n",
              "23  0.006635      V23\n",
              "24  0.009620      V24\n",
              "25  0.008189      V25\n",
              "26  0.011130      V26\n",
              "27  0.008959      V27\n",
              "28  0.008399      V28\n",
              "29  0.009027   Amount"
            ]
          },
          "metadata": {
            "tags": []
          },
          "execution_count": 12
        }
      ]
    },
    {
      "cell_type": "code",
      "metadata": {
        "colab": {
          "base_uri": "https://localhost:8080/",
          "height": 284
        },
        "id": "yqfTYyPscrUs",
        "outputId": "278dafd7-d7c9-4e95-d950-c9027779e4a0"
      },
      "source": [
        "features.sort_values(by=['imp'], ascending=False).nlargest(8, 'imp')"
      ],
      "execution_count": null,
      "outputs": [
        {
          "output_type": "execute_result",
          "data": {
            "text/html": [
              "<div>\n",
              "<style scoped>\n",
              "    .dataframe tbody tr th:only-of-type {\n",
              "        vertical-align: middle;\n",
              "    }\n",
              "\n",
              "    .dataframe tbody tr th {\n",
              "        vertical-align: top;\n",
              "    }\n",
              "\n",
              "    .dataframe thead th {\n",
              "        text-align: right;\n",
              "    }\n",
              "</style>\n",
              "<table border=\"1\" class=\"dataframe\">\n",
              "  <thead>\n",
              "    <tr style=\"text-align: right;\">\n",
              "      <th></th>\n",
              "      <th>imp</th>\n",
              "      <th>variable</th>\n",
              "    </tr>\n",
              "  </thead>\n",
              "  <tbody>\n",
              "    <tr>\n",
              "      <th>14</th>\n",
              "      <td>0.147299</td>\n",
              "      <td>V14</td>\n",
              "    </tr>\n",
              "    <tr>\n",
              "      <th>17</th>\n",
              "      <td>0.125091</td>\n",
              "      <td>V17</td>\n",
              "    </tr>\n",
              "    <tr>\n",
              "      <th>12</th>\n",
              "      <td>0.102777</td>\n",
              "      <td>V12</td>\n",
              "    </tr>\n",
              "    <tr>\n",
              "      <th>11</th>\n",
              "      <td>0.079358</td>\n",
              "      <td>V11</td>\n",
              "    </tr>\n",
              "    <tr>\n",
              "      <th>10</th>\n",
              "      <td>0.073989</td>\n",
              "      <td>V10</td>\n",
              "    </tr>\n",
              "    <tr>\n",
              "      <th>16</th>\n",
              "      <td>0.069491</td>\n",
              "      <td>V16</td>\n",
              "    </tr>\n",
              "    <tr>\n",
              "      <th>4</th>\n",
              "      <td>0.062904</td>\n",
              "      <td>V4</td>\n",
              "    </tr>\n",
              "    <tr>\n",
              "      <th>3</th>\n",
              "      <td>0.048322</td>\n",
              "      <td>V3</td>\n",
              "    </tr>\n",
              "  </tbody>\n",
              "</table>\n",
              "</div>"
            ],
            "text/plain": [
              "         imp variable\n",
              "14  0.147299      V14\n",
              "17  0.125091      V17\n",
              "12  0.102777      V12\n",
              "11  0.079358      V11\n",
              "10  0.073989      V10\n",
              "16  0.069491      V16\n",
              "4   0.062904       V4\n",
              "3   0.048322       V3"
            ]
          },
          "metadata": {
            "tags": []
          },
          "execution_count": 14
        }
      ]
    },
    {
      "cell_type": "code",
      "metadata": {
        "colab": {
          "base_uri": "https://localhost:8080/",
          "height": 360
        },
        "id": "wnV_DoGcctzp",
        "outputId": "76f90d56-2e94-4b81-ad08-60b58b430f51"
      },
      "source": [
        "data = data[(features.sort_values(by=['imp'], ascending=False).nlargest(8, 'imp')['variable']).append(pd.Series(['Class']), ignore_index=True)]\r\n",
        "\r\n",
        "print(data.shape)\r\n",
        "\r\n",
        "data.head(10)"
      ],
      "execution_count": null,
      "outputs": [
        {
          "output_type": "stream",
          "text": [
            "(284807, 9)\n"
          ],
          "name": "stdout"
        },
        {
          "output_type": "execute_result",
          "data": {
            "text/html": [
              "<div>\n",
              "<style scoped>\n",
              "    .dataframe tbody tr th:only-of-type {\n",
              "        vertical-align: middle;\n",
              "    }\n",
              "\n",
              "    .dataframe tbody tr th {\n",
              "        vertical-align: top;\n",
              "    }\n",
              "\n",
              "    .dataframe thead th {\n",
              "        text-align: right;\n",
              "    }\n",
              "</style>\n",
              "<table border=\"1\" class=\"dataframe\">\n",
              "  <thead>\n",
              "    <tr style=\"text-align: right;\">\n",
              "      <th></th>\n",
              "      <th>V14</th>\n",
              "      <th>V17</th>\n",
              "      <th>V12</th>\n",
              "      <th>V11</th>\n",
              "      <th>V10</th>\n",
              "      <th>V16</th>\n",
              "      <th>V4</th>\n",
              "      <th>V3</th>\n",
              "      <th>Class</th>\n",
              "    </tr>\n",
              "  </thead>\n",
              "  <tbody>\n",
              "    <tr>\n",
              "      <th>0</th>\n",
              "      <td>-0.311169</td>\n",
              "      <td>0.207971</td>\n",
              "      <td>-0.617801</td>\n",
              "      <td>-0.551600</td>\n",
              "      <td>0.090794</td>\n",
              "      <td>-0.470401</td>\n",
              "      <td>1.378155</td>\n",
              "      <td>2.536347</td>\n",
              "      <td>0</td>\n",
              "    </tr>\n",
              "    <tr>\n",
              "      <th>1</th>\n",
              "      <td>-0.143772</td>\n",
              "      <td>-0.114805</td>\n",
              "      <td>1.065235</td>\n",
              "      <td>1.612727</td>\n",
              "      <td>-0.166974</td>\n",
              "      <td>0.463917</td>\n",
              "      <td>0.448154</td>\n",
              "      <td>0.166480</td>\n",
              "      <td>0</td>\n",
              "    </tr>\n",
              "    <tr>\n",
              "      <th>2</th>\n",
              "      <td>-0.165946</td>\n",
              "      <td>1.109969</td>\n",
              "      <td>0.066084</td>\n",
              "      <td>0.624501</td>\n",
              "      <td>0.207643</td>\n",
              "      <td>-2.890083</td>\n",
              "      <td>0.379780</td>\n",
              "      <td>1.773209</td>\n",
              "      <td>0</td>\n",
              "    </tr>\n",
              "    <tr>\n",
              "      <th>3</th>\n",
              "      <td>-0.287924</td>\n",
              "      <td>-0.684093</td>\n",
              "      <td>0.178228</td>\n",
              "      <td>-0.226487</td>\n",
              "      <td>-0.054952</td>\n",
              "      <td>-1.059647</td>\n",
              "      <td>-0.863291</td>\n",
              "      <td>1.792993</td>\n",
              "      <td>0</td>\n",
              "    </tr>\n",
              "    <tr>\n",
              "      <th>4</th>\n",
              "      <td>-1.119670</td>\n",
              "      <td>-0.237033</td>\n",
              "      <td>0.538196</td>\n",
              "      <td>-0.822843</td>\n",
              "      <td>0.753074</td>\n",
              "      <td>-0.451449</td>\n",
              "      <td>0.403034</td>\n",
              "      <td>1.548718</td>\n",
              "      <td>0</td>\n",
              "    </tr>\n",
              "    <tr>\n",
              "      <th>5</th>\n",
              "      <td>-0.137134</td>\n",
              "      <td>-0.058133</td>\n",
              "      <td>0.359894</td>\n",
              "      <td>1.341262</td>\n",
              "      <td>-0.371407</td>\n",
              "      <td>0.401726</td>\n",
              "      <td>-0.168252</td>\n",
              "      <td>1.141109</td>\n",
              "      <td>0</td>\n",
              "    </tr>\n",
              "    <tr>\n",
              "      <th>6</th>\n",
              "      <td>0.167372</td>\n",
              "      <td>0.002821</td>\n",
              "      <td>-0.153826</td>\n",
              "      <td>-1.416907</td>\n",
              "      <td>-0.099254</td>\n",
              "      <td>-0.443587</td>\n",
              "      <td>1.202613</td>\n",
              "      <td>0.045371</td>\n",
              "      <td>0</td>\n",
              "    </tr>\n",
              "    <tr>\n",
              "      <th>7</th>\n",
              "      <td>-1.323865</td>\n",
              "      <td>-1.222127</td>\n",
              "      <td>0.291474</td>\n",
              "      <td>-0.619468</td>\n",
              "      <td>1.249376</td>\n",
              "      <td>-0.076127</td>\n",
              "      <td>-0.492199</td>\n",
              "      <td>1.074380</td>\n",
              "      <td>0</td>\n",
              "    </tr>\n",
              "    <tr>\n",
              "      <th>8</th>\n",
              "      <td>0.074355</td>\n",
              "      <td>-0.499768</td>\n",
              "      <td>-0.110452</td>\n",
              "      <td>-0.705117</td>\n",
              "      <td>-0.410430</td>\n",
              "      <td>-0.210077</td>\n",
              "      <td>-0.271526</td>\n",
              "      <td>-0.113192</td>\n",
              "      <td>0</td>\n",
              "    </tr>\n",
              "    <tr>\n",
              "      <th>9</th>\n",
              "      <td>-0.443523</td>\n",
              "      <td>-0.540980</td>\n",
              "      <td>0.836390</td>\n",
              "      <td>1.017614</td>\n",
              "      <td>-0.366846</td>\n",
              "      <td>0.739453</td>\n",
              "      <td>-0.222187</td>\n",
              "      <td>1.044367</td>\n",
              "      <td>0</td>\n",
              "    </tr>\n",
              "  </tbody>\n",
              "</table>\n",
              "</div>"
            ],
            "text/plain": [
              "        V14       V17       V12       V11  ...       V16        V4        V3  Class\n",
              "0 -0.311169  0.207971 -0.617801 -0.551600  ... -0.470401  1.378155  2.536347      0\n",
              "1 -0.143772 -0.114805  1.065235  1.612727  ...  0.463917  0.448154  0.166480      0\n",
              "2 -0.165946  1.109969  0.066084  0.624501  ... -2.890083  0.379780  1.773209      0\n",
              "3 -0.287924 -0.684093  0.178228 -0.226487  ... -1.059647 -0.863291  1.792993      0\n",
              "4 -1.119670 -0.237033  0.538196 -0.822843  ... -0.451449  0.403034  1.548718      0\n",
              "5 -0.137134 -0.058133  0.359894  1.341262  ...  0.401726 -0.168252  1.141109      0\n",
              "6  0.167372  0.002821 -0.153826 -1.416907  ... -0.443587  1.202613  0.045371      0\n",
              "7 -1.323865 -1.222127  0.291474 -0.619468  ... -0.076127 -0.492199  1.074380      0\n",
              "8  0.074355 -0.499768 -0.110452 -0.705117  ... -0.210077 -0.271526 -0.113192      0\n",
              "9 -0.443523 -0.540980  0.836390  1.017614  ...  0.739453 -0.222187  1.044367      0\n",
              "\n",
              "[10 rows x 9 columns]"
            ]
          },
          "metadata": {
            "tags": []
          },
          "execution_count": 13
        }
      ]
    },
    {
      "cell_type": "code",
      "metadata": {
        "colab": {
          "base_uri": "https://localhost:8080/"
        },
        "id": "hfsZC9hmcx4O",
        "outputId": "8803ceea-ec3f-4c44-d39e-c6f6f90a3be1"
      },
      "source": [
        "data.drop(axis=0, index=list(data.index[: 7]), inplace=True)\r\n",
        "\r\n",
        "data.shape"
      ],
      "execution_count": null,
      "outputs": [
        {
          "output_type": "execute_result",
          "data": {
            "text/plain": [
              "(284800, 9)"
            ]
          },
          "metadata": {
            "tags": []
          },
          "execution_count": 14
        }
      ]
    },
    {
      "cell_type": "code",
      "metadata": {
        "id": "_bd_25--c7bI"
      },
      "source": [
        "x = np.array(data[data.columns[:-1]])\r\n",
        "y = np.array(data['Class'])\r\n",
        "\r\n",
        "#print(x, y)"
      ],
      "execution_count": null,
      "outputs": []
    },
    {
      "cell_type": "code",
      "metadata": {
        "id": "7zTVqyQfdD_-"
      },
      "source": [
        "rfc = RandomForestClassifier(n_estimators=100, criterion='entropy', random_state=44)"
      ],
      "execution_count": null,
      "outputs": []
    },
    {
      "cell_type": "code",
      "metadata": {
        "id": "UXhaA30UdVxx",
        "colab": {
          "base_uri": "https://localhost:8080/"
        },
        "outputId": "17025c9f-ffa4-4449-cf5b-4349b1523bdc"
      },
      "source": [
        "kfold = KFold(n_splits=10, random_state=44)\r\n",
        "cv_result = cross_val_score(rfc, x, y, scoring='roc_auc', cv=kfold)\r\n",
        "result_list = \"%s: %f (%f)\" % (\"RandomForestClassifier: \", cv_result.mean(), cv_result.std())\r\n",
        "\r\n",
        "print(result_list)"
      ],
      "execution_count": null,
      "outputs": [
        {
          "output_type": "stream",
          "text": [
            "RandomForestClassifier: : 0.909969 (0.040462)\n"
          ],
          "name": "stdout"
        }
      ]
    },
    {
      "cell_type": "code",
      "metadata": {
        "id": "E8s3e0cBdoR1"
      },
      "source": [
        "lgbm = LGBMClassifier(n_estimators=10, learning_rate=.0001, class_weight='balanced', random_state=44)"
      ],
      "execution_count": null,
      "outputs": []
    },
    {
      "cell_type": "code",
      "metadata": {
        "id": "u5fkKCJjdafR",
        "colab": {
          "base_uri": "https://localhost:8080/"
        },
        "outputId": "02b7b28f-076d-47b9-b423-a5a86e700e29"
      },
      "source": [
        "cv_lgbm = cross_val_score(lgbm, x, y, scoring='roc_auc', cv=kfold)\r\n",
        "\r\n",
        "result_lgbm = \"%s: %f (%f)\" % ('lgbm', cv_lgbm.mean(), cv_lgbm.std())\r\n",
        "\r\n",
        "print(result_lgbm)"
      ],
      "execution_count": null,
      "outputs": [
        {
          "output_type": "stream",
          "text": [
            "lgbm: 0.925343 (0.028400)\n"
          ],
          "name": "stdout"
        }
      ]
    },
    {
      "cell_type": "code",
      "metadata": {
        "id": "wwpCdmARdg7Q"
      },
      "source": [
        "vote = VotingClassifier(estimators=[('Random Forest', rfc), ('LightGBM', lgbm)], voting='soft')"
      ],
      "execution_count": null,
      "outputs": []
    },
    {
      "cell_type": "code",
      "metadata": {
        "id": "4K_dK7rZkzny",
        "colab": {
          "base_uri": "https://localhost:8080/"
        },
        "outputId": "761a719a-bdbc-4ec5-ae5c-4cc89fff53cf"
      },
      "source": [
        "roc_auc_score = cross_val_score(vote, x, y, cv=kfold, scoring='roc_auc')\r\n",
        "\r\n",
        "print('roc_auc_score-- Mean %s STD %s' % (np.mean(roc_auc_score), np.std(roc_auc_score)))"
      ],
      "execution_count": null,
      "outputs": [
        {
          "output_type": "stream",
          "text": [
            "roc_auc_score-- Mean 0.9369993135877452 STD 0.027906973493664715\n"
          ],
          "name": "stdout"
        }
      ]
    },
    {
      "cell_type": "code",
      "metadata": {
        "id": "Hu0XLmYjsdXt"
      },
      "source": [
        ""
      ],
      "execution_count": null,
      "outputs": []
    }
  ]
}